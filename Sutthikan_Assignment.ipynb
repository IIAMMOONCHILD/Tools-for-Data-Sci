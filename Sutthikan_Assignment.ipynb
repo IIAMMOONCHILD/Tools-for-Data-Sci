{
  "nbformat": 4,
  "nbformat_minor": 0,
  "metadata": {
    "colab": {
      "provenance": [],
      "include_colab_link": true
    },
    "kernelspec": {
      "name": "python3",
      "display_name": "Python 3"
    },
    "language_info": {
      "name": "python"
    }
  },
  "cells": [
    {
      "cell_type": "markdown",
      "metadata": {
        "id": "view-in-github",
        "colab_type": "text"
      },
      "source": [
        "<a href=\"https://colab.research.google.com/github/IIAMMOONCHILD/Tools-for-Data-Sci/blob/main/Sutthikan_Assignment.ipynb\" target=\"_parent\"><img src=\"https://colab.research.google.com/assets/colab-badge.svg\" alt=\"Open In Colab\"/></a>"
      ]
    },
    {
      "cell_type": "markdown",
      "source": [
        "**ข้อ 1**"
      ],
      "metadata": {
        "id": "bOADSQ57hbOA"
      }
    },
    {
      "cell_type": "code",
      "source": [
        "from collections import Counter"
      ],
      "metadata": {
        "id": "D8i23OYhhMui"
      },
      "execution_count": 1,
      "outputs": []
    },
    {
      "cell_type": "code",
      "execution_count": 2,
      "metadata": {
        "colab": {
          "base_uri": "https://localhost:8080/"
        },
        "id": "eqESW23Zg6mX",
        "outputId": "fa69f4bb-d13e-4324-9b17-9242d8489c8f"
      },
      "outputs": [
        {
          "output_type": "stream",
          "name": "stdout",
          "text": [
            "Counter({1: 2, 2: 1})\n"
          ]
        }
      ],
      "source": [
        "def count_runs(bernoulli_trials):\n",
        "    run_counts = Counter()\n",
        "    run_length = 0\n",
        "\n",
        "    for trial in bernoulli_trials: #Iterating through Bernoulli Trials:\n",
        "        if trial == 1:\n",
        "            run_length += 1\n",
        "        else:\n",
        "            if run_length > 0:\n",
        "                run_counts[run_length] += 1\n",
        "            run_length = 0\n",
        "\n",
        "    if run_length > 0: #หลังจากวนรอบจะมีการตรวจสอบเพิ่มเติม  the case where the last run extends to the end of the list.\n",
        "        run_counts[run_length] += 1\n",
        "\n",
        "    return run_counts\n",
        "\n",
        "print(count_runs([0, 1, 0, 1, 1, 0, 0, 0, 0, 0, 1,]))"
      ]
    },
    {
      "cell_type": "code",
      "source": [
        "import numpy as np\n",
        "from collections import Counter\n",
        "\n",
        "def count_runs(sequence):\n",
        "    counts = {}\n",
        "    current_run_length = 1\n",
        "\n",
        "    for i in range(1, len(sequence)):\n",
        "        if sequence[i] == sequence[i-1]:\n",
        "            current_run_length += 1\n",
        "        else:\n",
        "            if current_run_length in counts:\n",
        "                counts[current_run_length] += 1\n",
        "            else:\n",
        "                counts[current_run_length] = 1\n",
        "            current_run_length = 1\n",
        "\n",
        "    # Add the last run\n",
        "    if current_run_length in counts:\n",
        "        counts[current_run_length] += 1\n",
        "    else:\n",
        "        counts[current_run_length] = 1\n",
        "\n",
        "    return counts\n",
        "\n",
        "def expected_count_runs(p, n, num_simulations):\n",
        "    counts = Counter()\n",
        "\n",
        "    for _ in range(num_simulations):\n",
        "        sequence = np.random.randint(0, 2, n)\n",
        "        current_counts = count_runs(sequence)\n",
        "\n",
        "        for key in current_counts.keys():\n",
        "            counts[key] += current_counts[key]\n",
        "\n",
        "    return counts\n",
        "\n",
        "sequence = np.random.randint(0, 2, 1000000)\n",
        "expected_counts = expected_count_runs(0.5, len(sequence), 1000)\n",
        "print(expected_counts)"
      ],
      "metadata": {
        "colab": {
          "base_uri": "https://localhost:8080/"
        },
        "id": "5cpt6u2S3OkY",
        "outputId": "1656e8aa-08dd-48b2-b870-2d69cd696b6b"
      },
      "execution_count": 3,
      "outputs": [
        {
          "output_type": "stream",
          "name": "stdout",
          "text": [
            "Counter({1: 250002602, 2: 125005090, 3: 62497858, 4: 31244077, 5: 15630388, 6: 7811564, 7: 3905210, 8: 1951766, 9: 977530, 10: 488064, 11: 244669, 12: 121751, 13: 61350, 14: 30602, 15: 15294, 16: 7664, 17: 3841, 18: 1925, 19: 930, 20: 463, 21: 216, 22: 107, 23: 71, 24: 26, 25: 9, 26: 9, 27: 3, 28: 1, 29: 1})\n"
          ]
        }
      ]
    },
    {
      "cell_type": "markdown",
      "source": [
        "\n",
        "\n",
        "---\n",
        "\n"
      ],
      "metadata": {
        "id": "_p7GIZA4h5Pm"
      }
    },
    {
      "cell_type": "markdown",
      "source": [
        "**ข้อ 2**"
      ],
      "metadata": {
        "id": "6sI6E_Exh74F"
      }
    },
    {
      "cell_type": "code",
      "source": [
        "import numpy as np\n",
        "import random\n",
        "\n",
        "def run_simulation(n, k, p, expts):\n",
        "    count = 0\n",
        "    for _ in range(expts):\n",
        "        runs = simulate_runs(n, k, p)\n",
        "        if runs:\n",
        "            count += 1\n",
        "    return count / expts\n",
        "\n",
        "def simulate_runs(n, k, p):\n",
        "    run = 0\n",
        "    runs = []\n",
        "    for i in range(n):\n",
        "        coin = random.random()\n",
        "        if coin <= p:\n",
        "            run += 1\n",
        "        else:\n",
        "            if run >= k:\n",
        "                runs.append(run)\n",
        "            run = 0\n",
        "    if run >= k:\n",
        "        runs.append(run)\n",
        "    return runs\n",
        "\n",
        "n = 100\n",
        "k = 5\n",
        "p = 0.5\n",
        "expts = 100000\n",
        "run_prob = run_simulation(n, k, p, expts)\n",
        "print(\"Probability of at least one run of length 5 or more when n=100 and p=0.5: \", run_prob)\n",
        "\n",
        "k = 7\n",
        "p = 0.7\n",
        "run_prob = run_simulation(n, k, p, expts)\n",
        "print(\"Probability of at least one run of length 7 or more when n=100 and p=0.7: \", run_prob)"
      ],
      "metadata": {
        "colab": {
          "base_uri": "https://localhost:8080/"
        },
        "id": "aRSjhdG3h2oL",
        "outputId": "77ed2f4f-fad7-49d7-e52d-5bd04d0a8f98"
      },
      "execution_count": 4,
      "outputs": [
        {
          "output_type": "stream",
          "name": "stdout",
          "text": [
            "Probability of at least one run of length 5 or more when n=100 and p=0.5:  0.81124\n",
            "Probability of at least one run of length 7 or more when n=100 and p=0.7:  0.94897\n"
          ]
        }
      ]
    }
  ]
}